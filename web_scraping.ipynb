{
 "cells": [
  {
   "cell_type": "markdown",
   "metadata": {},
   "source": [
    "# Web Scraping Gold and Silver Prices\n",
    "What's done?\n",
    "* Using `lxml` to obtain the commodity dates and prices from **[webpages](https://www.investing.com/commodities/gold-historical-data)** and convert to `pandas` dataframe. \n",
    "* Create a command line python program using `sys.argv`.\n",
    " * program computes stats of commodity prices\n",
    "* Show predictability of commodity prices"
   ]
  },
  {
   "cell_type": "markdown",
   "metadata": {},
   "source": [
    "# Start Scraping!\n",
    "Open the webpage and hit `Command`+`Option`+`i`, and move to the price and date elements and right click `Copy` -> `XPath`. The `XPath` is copied and used by `lxml.etree.xpath` to obtain the string values of price and date."
   ]
  },
  {
   "cell_type": "code",
   "execution_count": 119,
   "metadata": {},
   "outputs": [],
   "source": [
    "from lxml import etree\n",
    "import pandas as pd\n",
    "import requests # for http requests\n",
    "from datetime import datetime # change date format\n",
    "import sys\n",
    "def get_commodity_from_investing(commodity_name): # scrape `date` and `price` from investing.com\n",
    "    url = \"https://www.investing.com/commodities/%s-historical-data\"%commodity_name\n",
    "    response = requests.get(url, headers={\"User-Agent\": \"Mozilla/5.0\"}) # add User-Agent to prevent 403 error\n",
    "    html = response.content\n",
    "    tree = etree.HTML(html)\n",
    "\n",
    "    rows = len(tree.xpath('/html/body/div[5]/section/div[9]/table[1]/tbody/tr[*]')) # use * to get all table rows \n",
    "    price = [0]*rows\n",
    "    date = ['']*rows\n",
    "    for i in range(rows):\n",
    "        date[i] = date_formatting(tree.xpath('/html/body/div[5]/section/div[9]/table[1]/tbody/tr[%s]/td[1]/text()'%str(i+1))[0]) # index 0 to remove the list item\n",
    "        price[i] = float(tree.xpath('/html/body/div[5]/section/div[9]/table[1]/tbody/tr[%s]/td[2]/text()'%str(i+1))[0].replace(',',''))\n",
    "    #gold_date_price = list(zip(date,price)) # zip the two lists into one\n",
    "    return date,price\n",
    "def date_formatting(date): # convert Dec 07, 2018 to 2018-12-07\n",
    "    objDate = datetime.strptime(str(date),'%b %d, %Y') # convert the input string to date objects from a known format\n",
    "    date = datetime.strftime(objDate,'%Y-%m-%d') # convert the date object to any date format you like!!\n",
    "    return date\n",
    "\n",
    "gold_date,gold_price = get_commodity_from_investing('gold')\n",
    "silver_date,silver_price = get_commodity_from_investing('silver')\n",
    "\n",
    "# transform list into dataframe\n",
    "df_gold = pd.DataFrame({'date':gold_date,'gold':gold_price}) \n",
    "df_silver = pd.DataFrame({'date':silver_date,'silver':silver_price})\n",
    "df = df_silver.join(df_gold.set_index('date'),on='date') # join gold on silver since silver has more dates\n"
   ]
  },
  {
   "cell_type": "markdown",
   "metadata": {},
   "source": [
    "Save and show the data results"
   ]
  },
  {
   "cell_type": "code",
   "execution_count": 120,
   "metadata": {},
   "outputs": [
    {
     "name": "stdout",
     "output_type": "stream",
     "text": [
      "         date  silver    gold\n",
      "0  2018-12-07  14.696  1252.6\n",
      "1  2018-12-06  14.509  1243.6\n",
      "2  2018-12-05  14.582  1242.6\n",
      "3  2018-12-04  14.640  1246.6\n",
      "4  2018-12-03  14.499  1239.6\n",
      "5  2018-12-02  14.310     NaN\n",
      "6  2018-11-30  14.217  1226.0\n"
     ]
    }
   ],
   "source": [
    "df.to_csv('./data/data.csv')\n",
    "print(df.head(7))\n"
   ]
  },
  {
   "cell_type": "markdown",
   "metadata": {},
   "source": [
    "where the NaNs are just missing values. \n",
    "\n",
    "# Compute mean and std\n",
    "Create a program to obtain the mean and stdev for a selected date range:"
   ]
  },
  {
   "cell_type": "code",
   "execution_count": 164,
   "metadata": {},
   "outputs": [
    {
     "data": {
      "text/plain": [
       "('gold', 1223.0812499999997, 9.434561904685)"
      ]
     },
     "execution_count": 164,
     "metadata": {},
     "output_type": "execute_result"
    }
   ],
   "source": [
    "def getCommodityPrice(start_date,end_date,commodity):\n",
    "    df = pd.read_csv('./data/data.csv')\n",
    "    mask = (df['date']>=start_date) & (df['date']<=end_date) # alternatively, df[df.some_date.between(start_date, end_date)]\n",
    "    if not any(mask): \n",
    "        raise ValueError(\"Date out of range %s and %s\" % (df['date'].iloc[-1],df['date'].iloc[0]))\n",
    "    df = df.loc[mask]\n",
    "    \n",
    "    return commodity, df[commodity].mean(), df[commodity].std() \n",
    "\n",
    "getCommodityPrice('2018-11-07','2018-12-01','gold')"
   ]
  },
  {
   "cell_type": "markdown",
   "metadata": {},
   "source": [
    "Above result shows the mean and standard deviation of the gold commodity. One can create a program `getCommodityPrice.py` which takes commandline inputs and executed as `python getCommodityPrice 2018-11-07 2018-12-01 gold`:"
   ]
  },
  {
   "cell_type": "code",
   "execution_count": 162,
   "metadata": {},
   "outputs": [],
   "source": [
    "import sys\n",
    "import pandas as pd\n",
    "def getCommodityPrice():\n",
    "    if len(sys.arv)!=4:\n",
    "        raise ValueError(\"requires 3 input arguments, e.g., 2018-11-07 2018-12-01 gold\")\n",
    "    df = pd.read_csv('./data/data.csv')\n",
    "    mask = (df['date']>=sys.argv[1]) & (df['date']<=sys.argv[2]) # alternatively, df[df.some_date.between(start_date, end_date)]\n",
    "    if not any(mask): \n",
    "        raise ValueError(\"date out of range %s and %s\" % (df['date'].iloc[-1],df['date'].iloc[0]))\n",
    "    df = df.loc[mask]\n",
    "    print(sys.argv[3], df[sys.argv[3]].mean(), df[sys.argv[3]].std())\n",
    "\n",
    "if __name__ == '__main__': # if module executed directly, then run main()\n",
    "    getCommodityPrice()"
   ]
  },
  {
   "cell_type": "markdown",
   "metadata": {},
   "source": [
    "# Predictability"
   ]
  },
  {
   "cell_type": "markdown",
   "metadata": {},
   "source": [
    "A stochastic model development is generally beginned by examining the `memory` of the time series. Good way to start is by a simple examination of the autocorrelation function (ACF) and partial autocorrelation function (PACF). \n",
    "\n",
    "So why use PACF? Suppose we want to estimate the lag-0 (**x0**) by a lag-3 (**x1, x2, x3**) autoregression. Then the partial correlation between **x0** and **x3** is just the:\n",
    "\n",
    "\"correlation of the residuals of two different regressions:  (1) Regression of predicting **x0** from **x1** and **x2**, (2) regression of predicting **x3** from **x1** and **x2**.\"\n",
    "\n",
    "This is essentially the definition on [wikipedia](https://en.wikipedia.org/wiki/Partial_autocorrelation_function) of subtracting out the `projection` operator from OLS. This correlates the “parts” of **x0** and **x3** that are not predicted by **x1** and **x2**, removing the low order lag `memories`. The PACF makes the lag selection much more meaningful than using ACF! \n",
    "\n",
    "Let's look at a small example from our gold and silver price time series:"
   ]
  },
  {
   "cell_type": "code",
   "execution_count": 278,
   "metadata": {},
   "outputs": [
    {
     "data": {
      "image/png": "[encoded data removed]",
      "text/plain": [
       "<Figure size 864x216 with 2 Axes>"
      ]
     },
     "metadata": {},
     "output_type": "display_data"
    },
    {
     "data": {
      "image/png": "[encoded data removed]",
      "text/plain": [
       "<Figure size 864x216 with 2 Axes>"
      ]
     },
     "metadata": {},
     "output_type": "display_data"
    },
    {
     "data": {
      "image/png": "[encoded data removed]",
      "text/plain": [
       "<Figure size 864x216 with 1 Axes>"
      ]
     },
     "metadata": {},
     "output_type": "display_data"
    },
    {
     "data": {
      "image/png": "[encoded data removed]",
      "text/plain": [
       "<Figure size 864x216 with 1 Axes>"
      ]
     },
     "metadata": {},
     "output_type": "display_data"
    }
   ],
   "source": [
    "from statsmodels.graphics.tsaplots import plot_acf, plot_pacf\n",
    "from matplotlib import pyplot\n",
    "class counter(object): # subplot index counter\n",
    "    def __init__(self,i):\n",
    "        self.i=i\n",
    "    def count(self):\n",
    "        self.i+=1\n",
    "        return self.i\n",
    "    \n",
    "def predictability(y,commodity,doacf,dopacf):\n",
    "    maxlag = 10\n",
    "    isub=counter(100+(doacf+dopacf)*10) # subplot index\n",
    "    fig = pyplot.figure(figsize=(12,3))\n",
    "#    pyplot.suptitle(commodity) if (doacf+dopacf)>1 else pyplot.suptitle(commodity)\n",
    "    if doacf:\n",
    "        ax = fig.add_subplot(isub.count())\n",
    "        fig = plot_acf(y,lags=maxlag,ax=ax)\n",
    "        ax.set_title(commodity+' ACF')\n",
    "        pyplot.ylim(-1,1)\n",
    "        pyplot.xlabel('lags')\n",
    "    if dopacf:\n",
    "        ax = fig.add_subplot(isub.count())\n",
    "        fig = plot_pacf(y,lags=maxlag,ax=ax)\n",
    "        ax.set_title(commodity+' PACF')\n",
    "        pyplot.ylim(-1,1)\n",
    "        pyplot.xlabel('lags')\n",
    "    pyplot.show()\n",
    "# If past pricec are good predictors of future price\n",
    "predictability(gold_price,'GOLD',1,1)    \n",
    "predictability(silver_price,'SILVER',1,1)\n",
    "\n",
    "# If the price difference (increase or decrease) is predictable\n",
    "predictability(df['gold'].dropna(axis='rows').iloc[1:].values-df['gold'].dropna(axis='rows').iloc[:-1].values,'GOLD lag-1 Difference',0,1)\n",
    "predictability(df['silver'].iloc[1:].values-df['silver'].iloc[:-1].values,'SILVER lag-1 Difference',0,1)\n"
   ]
  },
  {
   "cell_type": "markdown",
   "metadata": {},
   "source": [
    "* Predictability of price\n",
    "> Top two figures show little partial autocorrelation after lag-1. Therefore the ACF memories from lag-2 and lag-3 are just the memory propagated from lag-1, which suggests an AR1 model for both the gold and silver price prediction.\n",
    "\n",
    "* Pedictability of price increase or decrease\n",
    "> There are no lag correlations in the bottom two figures, so it is probably unpredictable."
   ]
  },
  {
   "cell_type": "code",
   "execution_count": 265,
   "metadata": {},
   "outputs": [
    {
     "name": "stdout",
     "output_type": "stream",
     "text": [
      "34\n"
     ]
    }
   ],
   "source": []
  },
  {
   "cell_type": "code",
   "execution_count": 269,
   "metadata": {},
   "outputs": [
    {
     "data": {
      "text/plain": [
       "38"
      ]
     },
     "execution_count": 269,
     "metadata": {},
     "output_type": "execute_result"
    }
   ],
   "source": []
  },
  {
   "cell_type": "markdown",
   "metadata": {},
   "source": [
    "# Reference\n",
    "* [Datetime formate](https://docs.python.org/3/library/datetime.html)\n",
    "* [partial autocorrelation explained](https://onlinecourses.science.psu.edu/stat510/node/62/)"
   ]
  },
  {
   "cell_type": "code",
   "execution_count": null,
   "metadata": {},
   "outputs": [],
   "source": []
  }
 ],
 "metadata": {
  "kernelspec": {
   "display_name": "Python 3",
   "language": "python",
   "name": "python3"
  },
  "language_info": {
   "codemirror_mode": {
    "name": "ipython",
    "version": 3
   },
   "file_extension": ".py",
   "mimetype": "text/x-python",
   "name": "python",
   "nbconvert_exporter": "python",
   "pygments_lexer": "ipython3",
   "version": "3.5.0"
  }
 },
 "nbformat": 4,
 "nbformat_minor": 2
}
