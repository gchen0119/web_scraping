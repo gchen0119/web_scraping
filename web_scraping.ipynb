{
 "cells": [
  {
   "cell_type": "markdown",
   "metadata": {},
   "source": [
    "# Web Scraping Gold and Silver Prices\n",
    "What's done?\n",
    "* Using `lxml` to obtain the commodity dates and prices and convert to `pandas` dataframe. \n",
    "* "
   ]
  },
  {
   "cell_type": "code",
   "execution_count": 119,
   "metadata": {},
   "outputs": [],
   "source": [
    "from lxml import etree\n",
    "import pandas as pd\n",
    "import requests # for http requests\n",
    "from datetime import datetime # change date format\n",
    "import sys\n",
    "def get_commodity_from_investing(commodity_name): # scrape `date` and `price` from investing.com\n",
    "    url = \"https://www.investing.com/commodities/%s-historical-data\"%commodity_name\n",
    "    response = requests.get(url, headers={\"User-Agent\": \"Mozilla/5.0\"}) # add User-Agent to prevent 403 error\n",
    "    html = response.content\n",
    "    tree = etree.HTML(html)\n",
    "\n",
    "    rows = len(tree.xpath('/html/body/div[5]/section/div[9]/table[1]/tbody/tr[*]')) # use * to get all table rows \n",
    "    price = [0]*rows\n",
    "    date = ['']*rows\n",
    "    for i in range(rows):\n",
    "        date[i] = date_formatting(tree.xpath('/html/body/div[5]/section/div[9]/table[1]/tbody/tr[%s]/td[1]/text()'%str(i+1))[0]) # index 0 to remove the list item\n",
    "        price[i] = float(tree.xpath('/html/body/div[5]/section/div[9]/table[1]/tbody/tr[%s]/td[2]/text()'%str(i+1))[0].replace(',',''))\n",
    "    #gold_date_price = list(zip(date,price)) # zip the two lists into one\n",
    "    return date,price\n",
    "def date_formatting(date): # convert Dec 07, 2018 to 2018-12-07\n",
    "    objDate = datetime.strptime(str(date),'%b %d, %Y') # convert the input string to date objects from a known format\n",
    "    date = datetime.strftime(objDate,'%Y-%m-%d') # convert the date object to any date format you like!!\n",
    "    return date\n",
    "\n",
    "gold_date,gold_price = get_commodity_from_investing('gold')\n",
    "silver_date,silver_price = get_commodity_from_investing('silver')\n",
    "\n",
    "# transform list into dataframe\n",
    "df_gold = pd.DataFrame({'date':gold_date,'gold':gold_price}) \n",
    "df_silver = pd.DataFrame({'date':silver_date,'silver':silver_price})\n",
    "df = df_silver.join(df_gold.set_index('date'),on='date') # join gold on silver since silver has more dates\n"
   ]
  },
  {
   "cell_type": "markdown",
   "metadata": {},
   "source": [
    "Save and show the data results"
   ]
  },
  {
   "cell_type": "code",
   "execution_count": 120,
   "metadata": {},
   "outputs": [
    {
     "name": "stdout",
     "output_type": "stream",
     "text": [
      "         date  silver    gold\n",
      "0  2018-12-07  14.696  1252.6\n",
      "1  2018-12-06  14.509  1243.6\n",
      "2  2018-12-05  14.582  1242.6\n",
      "3  2018-12-04  14.640  1246.6\n",
      "4  2018-12-03  14.499  1239.6\n",
      "5  2018-12-02  14.310     NaN\n",
      "6  2018-11-30  14.217  1226.0\n"
     ]
    }
   ],
   "source": [
    "df.to_csv('./data/data.csv')\n",
    "print(df.head(7))\n"
   ]
  },
  {
   "cell_type": "code",
   "execution_count": 121,
   "metadata": {},
   "outputs": [],
   "source": [
    "def getCommodityPrice(start_date,end_date,commodity):\n",
    "    df = pd.DataFrame.from_csv('./data/data.csv')\n",
    "    mask = (df['date']>=start_date) & (df['date']<=end_date) # alternatively, df[df.some_date.between(start_date, end_date)]\n",
    "    df = df.loc[mask]\n",
    "    return commodity, df[commodity].mean(), df[commodity].std()"
   ]
  },
  {
   "cell_type": "code",
   "execution_count": 132,
   "metadata": {},
   "outputs": [
    {
     "name": "stdout",
     "output_type": "stream",
     "text": [
      "3\n",
      "getCommodityPrice\n"
     ]
    },
    {
     "name": "stderr",
     "output_type": "stream",
     "text": [
      "getCommodityPrice:2: FutureWarning: from_csv is deprecated. Please use read_csv(...) instead. Note that some of the default arguments are different, so please refer to the documentation for from_csv when changing your function calls\n"
     ]
    },
    {
     "ename": "IndexError",
     "evalue": "list assignment index out of range",
     "output_type": "error",
     "traceback": [
      "\u001b[0;31m---------------------------------------------------------------------------\u001b[0m",
      "\u001b[0;31mIndexError\u001b[0m                                Traceback (most recent call last)",
      "\u001b[0;32m<ipython-input-132-e4a6d27cac8d>\u001b[0m in \u001b[0;36m<module>\u001b[0;34m()\u001b[0m\n\u001b[1;32m      9\u001b[0m \u001b[0msys\u001b[0m\u001b[0;34m.\u001b[0m\u001b[0margv\u001b[0m\u001b[0;34m[\u001b[0m\u001b[0;36m1\u001b[0m\u001b[0;34m]\u001b[0m \u001b[0;34m=\u001b[0m \u001b[0;34m\"2017-05-01\"\u001b[0m\u001b[0;34m\u001b[0m\u001b[0m\n\u001b[1;32m     10\u001b[0m \u001b[0msys\u001b[0m\u001b[0;34m.\u001b[0m\u001b[0margv\u001b[0m\u001b[0;34m[\u001b[0m\u001b[0;36m2\u001b[0m\u001b[0;34m]\u001b[0m \u001b[0;34m=\u001b[0m \u001b[0;34m\"2017-05-03\"\u001b[0m\u001b[0;34m\u001b[0m\u001b[0m\n\u001b[0;32m---> 11\u001b[0;31m \u001b[0msys\u001b[0m\u001b[0;34m.\u001b[0m\u001b[0margv\u001b[0m\u001b[0;34m[\u001b[0m\u001b[0;36m3\u001b[0m\u001b[0;34m]\u001b[0m \u001b[0;34m=\u001b[0m \u001b[0;34m'gold'\u001b[0m\u001b[0;34m\u001b[0m\u001b[0m\n\u001b[0m\u001b[1;32m     12\u001b[0m \u001b[0msys\u001b[0m\u001b[0;34m.\u001b[0m\u001b[0margv\u001b[0m\u001b[0;34m\u001b[0m\u001b[0m\n",
      "\u001b[0;31mIndexError\u001b[0m: list assignment index out of range"
     ]
    }
   ],
   "source": [
    "import sys\n",
    "start_date,end_date = '2018-12-04','2018-12-07'\n",
    "getCommodityPrice(start_date,end_date,'gold')\n",
    "\n",
    "# run commandline arg here\n",
    "print(len(sys.argv))\n",
    "print(sys.argv[0])\n",
    "sys.argv[0] = \"getCommodityPrice\"\n",
    "sys.argv[1] = \"2017-05-01\"\n",
    "sys.argv[2] = \"2017-05-03\"\n",
    "sys.argv[3] = 'gold'\n",
    "sys.argv"
   ]
  },
  {
   "cell_type": "code",
   "execution_count": null,
   "metadata": {},
   "outputs": [],
   "source": []
  },
  {
   "cell_type": "markdown",
   "metadata": {},
   "source": [
    "# Reference\n",
    "[Datetime formate](https://docs.python.org/3/library/datetime.html)"
   ]
  }
 ],
 "metadata": {
  "kernelspec": {
   "display_name": "Python 3",
   "language": "python",
   "name": "python3"
  },
  "language_info": {
   "codemirror_mode": {
    "name": "ipython",
    "version": 3
   },
   "file_extension": ".py",
   "mimetype": "text/x-python",
   "name": "python",
   "nbconvert_exporter": "python",
   "pygments_lexer": "ipython3",
   "version": "3.5.0"
  }
 },
 "nbformat": 4,
 "nbformat_minor": 2
}
