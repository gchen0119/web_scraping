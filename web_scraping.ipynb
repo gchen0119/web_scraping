{
 "cells": [
  {
   "cell_type": "markdown",
   "metadata": {},
   "source": [
    "# Web Scraping Gold and Silver Prices\n",
    "What's done?\n",
    "* Using `lxml` to obtain the commodity dates and prices from **investing.com** and convert to `pandas` dataframe. \n",
    "* Create command line python programs using `sys.argv`."
   ]
  },
  {
   "cell_type": "markdown",
   "metadata": {},
   "source": [
    "# Start Scraping!\n",
    "Open the webpage and hit `Command`+`Option`+`i`, and move to the price and date elements and right click `Copy` -> `XPath`. The `XPath` is copied and used by `lxml.etree.xpath` to obtain the string values of price and date."
   ]
  },
  {
   "cell_type": "code",
   "execution_count": 119,
   "metadata": {},
   "outputs": [],
   "source": [
    "from lxml import etree\n",
    "import pandas as pd\n",
    "import requests # for http requests\n",
    "from datetime import datetime # change date format\n",
    "import sys\n",
    "def get_commodity_from_investing(commodity_name): # scrape `date` and `price` from investing.com\n",
    "    url = \"https://www.investing.com/commodities/%s-historical-data\"%commodity_name\n",
    "    response = requests.get(url, headers={\"User-Agent\": \"Mozilla/5.0\"}) # add User-Agent to prevent 403 error\n",
    "    html = response.content\n",
    "    tree = etree.HTML(html)\n",
    "\n",
    "    rows = len(tree.xpath('/html/body/div[5]/section/div[9]/table[1]/tbody/tr[*]')) # use * to get all table rows \n",
    "    price = [0]*rows\n",
    "    date = ['']*rows\n",
    "    for i in range(rows):\n",
    "        date[i] = date_formatting(tree.xpath('/html/body/div[5]/section/div[9]/table[1]/tbody/tr[%s]/td[1]/text()'%str(i+1))[0]) # index 0 to remove the list item\n",
    "        price[i] = float(tree.xpath('/html/body/div[5]/section/div[9]/table[1]/tbody/tr[%s]/td[2]/text()'%str(i+1))[0].replace(',',''))\n",
    "    #gold_date_price = list(zip(date,price)) # zip the two lists into one\n",
    "    return date,price\n",
    "def date_formatting(date): # convert Dec 07, 2018 to 2018-12-07\n",
    "    objDate = datetime.strptime(str(date),'%b %d, %Y') # convert the input string to date objects from a known format\n",
    "    date = datetime.strftime(objDate,'%Y-%m-%d') # convert the date object to any date format you like!!\n",
    "    return date\n",
    "\n",
    "gold_date,gold_price = get_commodity_from_investing('gold')\n",
    "silver_date,silver_price = get_commodity_from_investing('silver')\n",
    "\n",
    "# transform list into dataframe\n",
    "df_gold = pd.DataFrame({'date':gold_date,'gold':gold_price}) \n",
    "df_silver = pd.DataFrame({'date':silver_date,'silver':silver_price})\n",
    "df = df_silver.join(df_gold.set_index('date'),on='date') # join gold on silver since silver has more dates\n"
   ]
  },
  {
   "cell_type": "markdown",
   "metadata": {},
   "source": [
    "Save and show the data results"
   ]
  },
  {
   "cell_type": "code",
   "execution_count": 120,
   "metadata": {},
   "outputs": [
    {
     "name": "stdout",
     "output_type": "stream",
     "text": [
      "         date  silver    gold\n",
      "0  2018-12-07  14.696  1252.6\n",
      "1  2018-12-06  14.509  1243.6\n",
      "2  2018-12-05  14.582  1242.6\n",
      "3  2018-12-04  14.640  1246.6\n",
      "4  2018-12-03  14.499  1239.6\n",
      "5  2018-12-02  14.310     NaN\n",
      "6  2018-11-30  14.217  1226.0\n"
     ]
    }
   ],
   "source": [
    "df.to_csv('./data/data.csv')\n",
    "print(df.head(7))\n"
   ]
  },
  {
   "cell_type": "markdown",
   "metadata": {},
   "source": [
    "where the NaNs are just missing values. \n",
    "\n",
    "# Compute mean and stdev\n",
    "Create a program to obtain the mean and stdev for a selected date range:"
   ]
  },
  {
   "cell_type": "code",
   "execution_count": 164,
   "metadata": {},
   "outputs": [
    {
     "data": {
      "text/plain": [
       "('gold', 1223.0812499999997, 9.434561904685)"
      ]
     },
     "execution_count": 164,
     "metadata": {},
     "output_type": "execute_result"
    }
   ],
   "source": [
    "def getCommodityPrice(start_date,end_date,commodity):\n",
    "    df = pd.read_csv('./data/data.csv')\n",
    "    mask = (df['date']>=start_date) & (df['date']<=end_date) # alternatively, df[df.some_date.between(start_date, end_date)]\n",
    "    if not any(mask): \n",
    "        raise ValueError(\"Date out of range %s and %s\" % (df['date'].iloc[-1],df['date'].iloc[0]))\n",
    "    df = df.loc[mask]\n",
    "    \n",
    "    return commodity, df[commodity].mean(), df[commodity].std() \n",
    "\n",
    "getCommodityPrice('2018-11-07','2018-12-01','gold')"
   ]
  },
  {
   "cell_type": "markdown",
   "metadata": {},
   "source": [
    "Above result shows the mean and standard deviation of the gold commodity. One can create a program `getCommodityPrice.py` which takes commandline inputs and executed as `python getCommodityPrice 2018-11-07 2018-12-01 gold`:"
   ]
  },
  {
   "cell_type": "code",
   "execution_count": 162,
   "metadata": {},
   "outputs": [],
   "source": [
    "import sys\n",
    "import pandas as pd\n",
    "def getCommodityPrice():\n",
    "    df = pd.read_csv('./data/data.csv')\n",
    "    mask = (df['date']>=sys.argv[1]) & (df['date']<=sys.argv[2]) # alternatively, df[df.some_date.between(start_date, end_date)]\n",
    "    if not any(mask): \n",
    "        raise ValueError(\"Date out of range %s and %s\" % (df['date'].iloc[-1],df['date'].iloc[0]))\n",
    "    df = df.loc[mask]\n",
    "    print(sys.argv[3], df[sys.argv[3]].mean(), df[sys.argv[3]].std())\n",
    "\n",
    "if __name__ == '__main__': # if module executed directly, then run main()\n",
    "    getCommodityPrice()"
   ]
  },
  {
   "cell_type": "markdown",
   "metadata": {},
   "source": [
    "# Predictability"
   ]
  },
  {
   "cell_type": "markdown",
   "metadata": {},
   "source": [
    "Examine the autocorrelation function (ACF) and partial autocorrelation function (PACF). The PACF(k) estimates the the k coefficients of an lagged autoregression. The lag-k autocorrelation is computed only **up to** lag-k random variable, as opposed to ACF incorporating the >k lags in the OLS computation. This essentially removes the `memory` from , see [here](https://stats.stackexchange.com/questions/18599/pacf-manual-calculation) for more details."
   ]
  },
  {
   "cell_type": "code",
   "execution_count": 173,
   "metadata": {},
   "outputs": [
    {
     "data": {
      "image/png": "[encoded data removed]",
      "text/plain": [
       "<Figure size 864x576 with 2 Axes>"
      ]
     },
     "metadata": {},
     "output_type": "display_data"
    }
   ],
   "source": [
    "from statsmodels.graphics.tsaplots import plot_acf, plot_pacf\n",
    "from matplotlib import pyplot\n",
    "def predictability(y):\n",
    "    maxlag = 10\n",
    "    fig = pyplot.figure(figsize=(12,8))\n",
    "    ax = fig.add_subplot(211)\n",
    "    fig = plot_acf(y,lags=maxlag,ax=ax)\n",
    "    pyplot.ylim(-1,1)\n",
    "    ax = fig.add_subplot(212)\n",
    "    fig = plot_pacf(y,lags=maxlag,ax=ax)\n",
    "    pyplot.ylim(-1,1)\n",
    "    pyplot.show()\n",
    "    #fig = plot_acf(y)\n",
    "    #fig.set_size_inches(14,10)\n",
    "    #pyplot.figure(num=None,figsize=(20,12))\n",
    "    #pyplot.show()\n",
    "predictability(gold_price)"
   ]
  },
  {
   "cell_type": "markdown",
   "metadata": {},
   "source": [
    "As shown above, the lag-1 is the cutoff predictability from "
   ]
  },
  {
   "cell_type": "markdown",
   "metadata": {},
   "source": [
    "# Reference\n",
    "* [Datetime formate](https://docs.python.org/3/library/datetime.html)\n",
    "* [partial autocorrelation explained](https://stats.stackexchange.com/questions/18599/pacf-manual-calculation)"
   ]
  },
  {
   "cell_type": "code",
   "execution_count": null,
   "metadata": {},
   "outputs": [],
   "source": []
  }
 ],
 "metadata": {
  "kernelspec": {
   "display_name": "Python 3",
   "language": "python",
   "name": "python3"
  },
  "language_info": {
   "codemirror_mode": {
    "name": "ipython",
    "version": 3
   },
   "file_extension": ".py",
   "mimetype": "text/x-python",
   "name": "python",
   "nbconvert_exporter": "python",
   "pygments_lexer": "ipython3",
   "version": "3.5.0"
  }
 },
 "nbformat": 4,
 "nbformat_minor": 2
}
